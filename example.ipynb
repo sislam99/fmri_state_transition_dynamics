{
 "cells": [
  {
   "cell_type": "markdown",
   "id": "99dafe2f",
   "metadata": {},
   "source": [
    "### Import libraries "
   ]
  },
  {
   "cell_type": "code",
   "execution_count": 1,
   "id": "958c8be4",
   "metadata": {},
   "outputs": [],
   "source": [
    "import numpy as np\n",
    "import pandas as pd\n",
    "import seaborn as sns\n",
    "import scipy.io as sio\n",
    "import os\n",
    "import matplotlib.pyplot as plt \n",
    "import itertools\n",
    "from itertools import groupby, combinations\n",
    "from all_observables import *\n",
    "from discrepancy_measures import *\n",
    "from test_retest_reliability import *"
   ]
  },
  {
   "cell_type": "markdown",
   "id": "248929c0",
   "metadata": {},
   "source": [
    "### Load data"
   ]
  },
  {
   "cell_type": "code",
   "execution_count": 2,
   "id": "21a33110",
   "metadata": {},
   "outputs": [],
   "source": [
    "file_path = \"/Users/sislam/Documents/fMRI_Microstate/fmri_state_transition_dynamics/sample_data/\"\n",
    "# First participant and first session data \n",
    "df = pd.read_csv(file_path+\"sample_data_participant1_session1.csv\")"
   ]
  },
  {
   "cell_type": "markdown",
   "id": "72e42b5f",
   "metadata": {},
   "source": [
    "### Assign the cluster label to each time point and compute the centroid of each cluster using K-means clustering."
   ]
  },
  {
   "cell_type": "code",
   "execution_count": 3,
   "id": "25306186",
   "metadata": {},
   "outputs": [],
   "source": [
    "data = np.array(df)\n",
    "kmeans_labels, kmeans_centroids = Kmeans(data = data, num_clusters = 4)"
   ]
  },
  {
   "cell_type": "markdown",
   "id": "06104fdb",
   "metadata": {},
   "source": [
    "### Getting cluster labels, GEV and all observables of the first session data of first participant."
   ]
  },
  {
   "cell_type": "code",
   "execution_count": 4,
   "id": "9d2f3b02",
   "metadata": {},
   "outputs": [],
   "source": [
    "labels, GEV, observables = lav_observ(data = data,  method = Kmeans, num_clusters = 4)"
   ]
  },
  {
   "cell_type": "markdown",
   "id": "cff0b81b",
   "metadata": {},
   "source": [
    "### Discrepancy measures\n",
    "- **Dissimilarity between centroid position**\n",
    "- **Total Variation of coverage time** \n",
    "- **Total Variation of frequency** \n",
    "- **Total Variation of average lifespan** \n",
    "- **Frobenius distance of two transition probability matrices** \n",
    "\n",
    "Two compare the observables between two sessions from the same participant or from different pariticapnt, we need all observables from all sessions. "
   ]
  },
  {
   "cell_type": "code",
   "execution_count": 5,
   "id": "bc02420a",
   "metadata": {},
   "outputs": [],
   "source": [
    "# all observables from all sessions\n",
    "all_results = [[lav_observ(data = np.array(pd.read_csv(file_path+\"sample_data_participant\"+str(p)+\"_session\"+str(s)+\".csv\")),  \n",
    "           method = Kmeans, num_clusters = 4)[2] for s in range(1,3)] for p in range(1,3)]\n",
    "\n",
    "# reproducibility of five observables within subjects and between subjects.\n",
    "within_sub = reproducibility(all_results = np.array(all_results), distance = \"cosine\", WP = True, BP=None)\n",
    "between_sub = reproducibility(all_results = np.array(all_results), distance = \"cosine\", WP = None, BP = True)"
   ]
  },
  {
   "cell_type": "markdown",
   "id": "adb61fdd",
   "metadata": {},
   "source": [
    "### Permutation test\n",
    "We hypothesize that the state-transition dynamics estimated\n",
    "from fMRI data is more consistent between different sessions of\n",
    "the same participant than between different participants. To test\n",
    "this hypothesis, we compare the dissimilarity between two sessions\n",
    "originating from the same participant and the dissimilarity\n",
    "between two sessions originating from different participants.For each observable,\n",
    "we compare the within-participant dissimilarity and\n",
    "between-participant dissimilarity using the normalized distance\n",
    "ND combined with the permutation test."
   ]
  },
  {
   "cell_type": "code",
   "execution_count": 9,
   "id": "7b64ae90",
   "metadata": {},
   "outputs": [],
   "source": [
    "ND_empirical, ND_permuted, p_value = permuted_ND(N = 10, \n",
    "                                                 observable_results = np.array(all_results), \n",
    "                                                 distance = \"cosine\")"
   ]
  },
  {
   "cell_type": "markdown",
   "id": "d536cd26",
   "metadata": {},
   "source": [
    "***If someone would like to get only ND value for the five observables from empirical data then the following command can be used.***"
   ]
  },
  {
   "cell_type": "code",
   "execution_count": 8,
   "id": "caf93efd",
   "metadata": {},
   "outputs": [],
   "source": [
    "ND_empirical = ND_value(observable_results = np.array(all_results), distance = \"cosine\")"
   ]
  }
 ],
 "metadata": {
  "kernelspec": {
   "display_name": "Python 3",
   "language": "python",
   "name": "python3"
  },
  "language_info": {
   "codemirror_mode": {
    "name": "ipython",
    "version": 3
   },
   "file_extension": ".py",
   "mimetype": "text/x-python",
   "name": "python",
   "nbconvert_exporter": "python",
   "pygments_lexer": "ipython3",
   "version": "3.8.8"
  }
 },
 "nbformat": 4,
 "nbformat_minor": 5
}
