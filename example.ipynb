{
 "cells": [
  {
   "cell_type": "markdown",
   "id": "99dafe2f",
   "metadata": {},
   "source": [
    "### Import libraries "
   ]
  },
  {
   "cell_type": "code",
   "execution_count": 1,
   "id": "958c8be4",
   "metadata": {},
   "outputs": [],
   "source": [
    "import numpy as np\n",
    "import pandas as pd\n",
    "import seaborn as sns\n",
    "import scipy.io as sio\n",
    "import os\n",
    "import matplotlib.pyplot as plt \n",
    "import itertools\n",
    "from itertools import groupby, combinations\n",
    "from all_observables import *\n",
    "from discrepancy_measures import *\n",
    "from test_retest_reliability import *"
   ]
  },
  {
   "cell_type": "markdown",
   "id": "248929c0",
   "metadata": {},
   "source": [
    "### Load data"
   ]
  },
  {
   "cell_type": "code",
   "execution_count": 2,
   "id": "21a33110",
   "metadata": {},
   "outputs": [],
   "source": [
    "file_path = \"/.../fmri_state_transition_dynamics/sample_data/\" # Please complete the directory when you use the code.\n",
    "# Use the first session of the first participant \n",
    "df = pd.read_csv(file_path+\"sample_data_participant1_session1.csv\")"
   ]
  },
  {
   "cell_type": "markdown",
   "id": "72e42b5f",
   "metadata": {},
   "source": [
    "### Assign the cluster label to each time point and compute the centroid of each cluster using K-means clustering."
   ]
  },
  {
   "cell_type": "code",
   "execution_count": 3,
   "id": "25306186",
   "metadata": {},
   "outputs": [],
   "source": [
    "data = np.array(df)\n",
    "cluster_labels, cluster_centroids = Kmeans(data = data, num_clusters = 4)"
   ]
  },
  {
   "cell_type": "markdown",
   "id": "06104fdb",
   "metadata": {},
   "source": [
    "### Assign the cluster label to each time point, and calculate GEV and the five observables.\n"
   ]
  },
  {
   "cell_type": "code",
   "execution_count": 4,
   "id": "9d2f3b02",
   "metadata": {},
   "outputs": [],
   "source": [
    "cluster_labels, GEV, observables = lav_observ(data = data,  method = Kmeans, num_clusters = 4)"
   ]
  },
  {
   "cell_type": "markdown",
   "id": "cff0b81b",
   "metadata": {},
   "source": [
    "### Discrepancy measures\n",
    "- **Dissimilarity between centroid position**\n",
    "- **Total variation (TV) of coverage time** \n",
    "- **TV of frequency** \n",
    "- **TV of average lifespan** \n",
    "- **Frobenius distance of two transition probability matrices** \n",
    "\n",
    "To compare observables between two sessions from the same participant or different participants, the provided code outputs a list \"all_results\", which is a list of lists. Each inner list contains all observables from a session. The length of the outer list is equal to the number of participants. So, if there are $p$ participants and each of them has $s$ sessions, then \"all_results\" is a list of length $p$, and each element of \"all_results\" is a list of length $s$. [NM: Please add a line break (plus either an indent or blank line) here.] The second command line just below outputs \"within_participants\", which contains the discrepancy measures of observables between two sessions from the same participants. The third command line ouputs \"between_participants\", which contains the discrepancy measures of observables between two sessions from different participants. Both \"within_participants\" and \"between_participants\" are a list. Each element of these lists is an numpy array consisting of the dissimilarity in the centroid position between two sessions, TV of coverage time between the same two sessions, TV of frequency of each state between the two sessions, TV of average lifespan between the two sessions, and the Frobenius distance between the two transition probability matrices. For within-participant comparison, the length of the output list is $p \\times {s \\choose 2}$, where $p$ is the number of participants for which we want the discrepancy measures, and $s$ is the number of sessions for each sparticipant. For between-participant comparison, the length of the list is $s \\times {p \\choose 2}$. In the example code, dummy data with $p=2$ participants and $s=2$ sessions per participant is used for illustration."
   ]
  },
  {
   "cell_type": "code",
   "execution_count": 5,
   "id": "bc02420a",
   "metadata": {},
   "outputs": [],
   "source": [
    "# all observables from all sessions\n",
    "all_results = [[lav_observ(data = np.array(pd.read_csv(file_path+\"sample_data_participant\"+str(p)+\"_session\"+str(s)+\".csv\")),  \n",
    "           method = Kmeans, num_clusters = 4)[2] for s in range(1,3)] for p in range(1,3)]\n",
    "\n",
    "# Discrepancy in terms of the five observables between sessions within the same participant and between sessions from different participants. \n",
    "within_participants = reproducibility(all_results = np.array(all_results), distance = \"cosine\", \n",
    "                                      comparison = \"WP\")\n",
    "between_participants = reproducibility(all_results = np.array(all_results), distance = \"cosine\", \n",
    "                                       comparison = \"BP\")"
   ]
  },
  {
   "cell_type": "markdown",
   "id": "adb61fdd",
   "metadata": {},
   "source": [
    "### Permutation test\n",
    "We hypothesize that the state-transition dynamics estimated from fMRI data is more consistent between different sessions of the same participant than between different participants. To test this hypothesis, we compare the dissimilarity between two sessions originating from the same participant and the dissimilarity between two sessions originating from different participants. For each observable, we compare the within-participant dissimilarity and between-participant dissimilarity using the normalized distance, denoted by ND, combined with the permutation test. The three outputs are [NM: Can you make the three in the following a bullet-point list? I know how to do it in markdown, but I don't know python notebook grammer...] \"ND_empirical\" which is a numpy array provides the ND values of five observables computed from empirical data (See Eq. (17) in the article [I will embed the link here][NM: I think it is unnecessary. Same below.]); \"ND_permuted\" is a (10000,5) numpy array each row provides the ND values of five observables computed after each permutation; \"p_value\" is the p-value calculated from \"ND_empirical\" and \"ND_permuted\" (See section 2.6.3 in the article [I will embed the link here].)."
   ]
  },
  {
   "cell_type": "code",
   "execution_count": 6,
   "id": "7b64ae90",
   "metadata": {},
   "outputs": [],
   "source": [
    "ND_empirical, ND_permuted, p_value = permuted_ND(N = 10000, \n",
    "                                                 all_results = np.array(all_results), \n",
    "                                                 distance = \"cosine\")"
   ]
  },
  {
   "cell_type": "markdown",
   "id": "d536cd26",
   "metadata": {},
   "source": [
    "If you want to get only the ND value for the five observables from empirical data, without running the permutation test, then you can use the following command."
   ]
  },
  {
   "cell_type": "code",
   "execution_count": 7,
   "id": "caf93efd",
   "metadata": {},
   "outputs": [],
   "source": [
    "ND_empirical = ND_value(all_results = np.array(all_results), distance = \"cosine\")"
   ]
  }
 ],
 "metadata": {
  "kernelspec": {
   "display_name": "Python 3",
   "language": "python",
   "name": "python3"
  },
  "language_info": {
   "codemirror_mode": {
    "name": "ipython",
    "version": 3
   },
   "file_extension": ".py",
   "mimetype": "text/x-python",
   "name": "python",
   "nbconvert_exporter": "python",
   "pygments_lexer": "ipython3",
   "version": "3.8.8"
  }
 },
 "nbformat": 4,
 "nbformat_minor": 5
}
